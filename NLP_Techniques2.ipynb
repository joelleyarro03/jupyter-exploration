{
  "cells": [
    {
      "cell_type": "markdown",
      "id": "eb1f1775",
      "metadata": {
        "id": "eb1f1775"
      },
      "source": [
        "Welcome to NLP Processing Techniques Project Using Python"
      ]
    },
    {
      "cell_type": "markdown",
      "id": "20de3095",
      "metadata": {},
      "source": [
        "\"My first markdown cell in Jupyter.\""
      ]
    },
    {
      "cell_type": "markdown",
      "id": "f5333845",
      "metadata": {},
      "source": [
        "Writting a Python Code in the Line"
      ]
    },
    {
      "cell_type": "code",
      "execution_count": 2,
      "id": "af7452d5",
      "metadata": {},
      "outputs": [
        {
          "name": "stdout",
          "output_type": "stream",
          "text": [
            "Hello, World\n"
          ]
        }
      ],
      "source": [
        "print('Hello, World')"
      ]
    },
    {
      "cell_type": "markdown",
      "id": "AHeKI2MOOWQT",
      "metadata": {
        "id": "AHeKI2MOOWQT"
      },
      "source": []
    }
  ],
  "metadata": {
    "colab": {
      "provenance": []
    },
    "kernelspec": {
      "display_name": "Python 3",
      "language": "python",
      "name": "python3"
    },
    "language_info": {
      "codemirror_mode": {
        "name": "ipython",
        "version": 3
      },
      "file_extension": ".py",
      "mimetype": "text/x-python",
      "name": "python",
      "nbconvert_exporter": "python",
      "pygments_lexer": "ipython3",
      "version": "3.13.4"
    }
  },
  "nbformat": 4,
  "nbformat_minor": 5
}
